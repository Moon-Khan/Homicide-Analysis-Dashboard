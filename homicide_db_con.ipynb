{
 "cells": [
  {
   "cell_type": "code",
   "execution_count": 9,
   "metadata": {},
   "outputs": [],
   "source": [
    "import pandas as pd\n",
    "import psycopg2\n",
    "\n",
    "# Read Excel file into a DataFrame\n",
    "df = pd.read_excel('Homicide_by_Countries.xls')\n",
    "\n",
    "# Connect to PostgreSQL\n",
    "connection = psycopg2.connect(\n",
    "    host=\"localhost\",\n",
    "    database=\"Homicide_db\",\n",
    "    user=\"postgres\",\n",
    "    password=\"3234\"\n",
    ")\n",
    "\n",
    "# Create a cursor object\n",
    "cursor = connection.cursor()\n",
    "\n",
    "# Create table\n",
    "create_table_query = '''\n",
    "CREATE TABLE IF NOT EXISTS Homicide_by_Countries (\n",
    "    Location VARCHAR(255),\n",
    "    Region VARCHAR(255),\n",
    "    Subregion VARCHAR(255),\n",
    "    Rate NUMERIC,\n",
    "    Count INTEGER,\n",
    "    Year INTEGER\n",
    ");\n",
    "'''\n",
    "cursor.execute(create_table_query)\n",
    "\n",
    "# Convert DataFrame to list of tuples\n",
    "data = [tuple(row) for row in df.values]\n",
    "\n",
    "# Insert data into PostgreSQL\n",
    "insert_query = '''\n",
    "INSERT INTO Homicide_by_Countries (Location, Region, Subregion, Rate, Count, Year)\n",
    "VALUES (%s, %s, %s, %s, %s, %s);\n",
    "'''\n",
    "cursor.executemany(insert_query, data)\n",
    "\n",
    "# Commit changes\n",
    "connection.commit()\n",
    "\n",
    "# Close the cursor and connection\n",
    "cursor.close()\n",
    "connection.close()\n"
   ]
  }
 ],
 "metadata": {
  "kernelspec": {
   "display_name": "base",
   "language": "python",
   "name": "python3"
  },
  "language_info": {
   "codemirror_mode": {
    "name": "ipython",
    "version": 3
   },
   "file_extension": ".py",
   "mimetype": "text/x-python",
   "name": "python",
   "nbconvert_exporter": "python",
   "pygments_lexer": "ipython3",
   "version": "3.11.5"
  }
 },
 "nbformat": 4,
 "nbformat_minor": 2
}
